{
  "cells": [
    {
      "cell_type": "code",
      "execution_count": 1,
      "metadata": {},
      "outputs": [
        {
          "name": "stderr",
          "output_type": "stream",
          "text": [
            "C:\\Users\\Aditya Mohan Khade\\AppData\\Roaming\\Python\\Python310\\site-packages\\tqdm\\auto.py:21: TqdmWarning: IProgress not found. Please update jupyter and ipywidgets. See https://ipywidgets.readthedocs.io/en/stable/user_install.html\n",
            "  from .autonotebook import tqdm as notebook_tqdm\n"
          ]
        },
        {
          "name": "stdout",
          "output_type": "stream",
          "text": [
            "WARNING:tensorflow:From C:\\Users\\Aditya Mohan Khade\\AppData\\Roaming\\Python\\Python310\\site-packages\\tf_keras\\src\\losses.py:2976: The name tf.losses.sparse_softmax_cross_entropy is deprecated. Please use tf.compat.v1.losses.sparse_softmax_cross_entropy instead.\n",
            "\n"
          ]
        }
      ],
      "source": [
        "import re\n",
        "import pandas as pd\n",
        "import numpy as np\n",
        "from sklearn.model_selection import train_test_split\n",
        "from sklearn.preprocessing import LabelEncoder\n",
        "import tensorflow as tf\n",
        "from tensorflow.keras.optimizers import Adam\n",
        "from transformers import TFDistilBertForSequenceClassification, DistilBertTokenizer"
      ]
    },
    {
      "cell_type": "code",
      "execution_count": 2,
      "metadata": {},
      "outputs": [],
      "source": [
        "df = pd.read_csv('../Data/labeled_data.csv')\n",
        "df.drop(columns=['Unnamed: 0'],inplace=True)"
      ]
    },
    {
      "cell_type": "code",
      "execution_count": 3,
      "metadata": {},
      "outputs": [
        {
          "name": "stdout",
          "output_type": "stream",
          "text": [
            "Class distribution:\n",
            "class\n",
            "1    19190\n",
            "2     4163\n",
            "0     1430\n",
            "Name: count, dtype: int64\n",
            "\n",
            "Class meanings:\n",
            "0 = Hate speech\n",
            "1 = Offensive language\n",
            "2 = Neither/Neutral\n"
          ]
        }
      ],
      "source": [
        "# Check class distribution to verify class imbalance\n",
        "class_counts = df['class'].value_counts()\n",
        "print(\"Class distribution:\")\n",
        "print(class_counts)\n",
        "print(\"\\nClass meanings:\")\n",
        "print(\"0 = Hate speech\")\n",
        "print(\"1 = Offensive language\")\n",
        "print(\"2 = Neither/Neutral\")"
      ]
    },
    {
      "cell_type": "code",
      "execution_count": 4,
      "metadata": {},
      "outputs": [],
      "source": [
        "def preprocess_text(text):\n",
        "    text = re.sub(r\"http\\S+\", \"\", text)\n",
        "    text = re.sub(r\"&amp;\", \"&\", text) \n",
        "    text = re.sub(r\"[^\\w\\s]\", \"\", text) \n",
        "    text = text.strip()  \n",
        "    return text.lower()\n",
        "\n",
        "df['cleaned_tweet'] = df['tweet'].apply(preprocess_text)\n",
        "df['label'] = df['class']"
      ]
    },
    {
      "cell_type": "code",
      "execution_count": 5,
      "metadata": {},
      "outputs": [],
      "source": [
        "X = df['cleaned_tweet']\n",
        "y = df['label']\n",
        "\n",
        "X_train, X_test, y_train, y_test = train_test_split(X, y, test_size=0.2, random_state=42)\n",
        "X_train, X_val, y_train, y_val = train_test_split(X_train, y_train, test_size=0.1, random_state=42)"
      ]
    },
    {
      "cell_type": "code",
      "execution_count": 6,
      "metadata": {},
      "outputs": [
        {
          "name": "stderr",
          "output_type": "stream",
          "text": [
            "C:\\Users\\Aditya Mohan Khade\\AppData\\Roaming\\Python\\Python310\\site-packages\\transformers\\tokenization_utils_base.py:1601: FutureWarning: `clean_up_tokenization_spaces` was not set. It will be set to `True` by default. This behavior will be depracted in transformers v4.45, and will be then set to `False` by default. For more details check this issue: https://github.com/huggingface/transformers/issues/31884\n",
            "  warnings.warn(\n"
          ]
        }
      ],
      "source": [
        "tokenizer = DistilBertTokenizer.from_pretrained(\"distilbert-base-uncased\")\n",
        "\n",
        "def tokenize_data(texts, labels):\n",
        "    encodings = tokenizer(list(texts), truncation=True, padding=True, max_length=128)\n",
        "    return encodings, labels\n",
        "\n",
        "train_encodings, train_labels = tokenize_data(X_train, y_train)\n",
        "val_encodings, val_labels = tokenize_data(X_val, y_val)\n",
        "test_encodings, test_labels = tokenize_data(X_test, y_test)"
      ]
    },
    {
      "cell_type": "code",
      "execution_count": 7,
      "metadata": {},
      "outputs": [],
      "source": [
        "def create_tf_dataset(encodings, labels, batch_size=8):  # Smaller batch size for better learning\n",
        "    dataset = tf.data.Dataset.from_tensor_slices((\n",
        "        dict(encodings),\n",
        "        labels\n",
        "    ))\n",
        "\n",
        "    dataset = dataset.shuffle(len(labels)).batch(batch_size).prefetch(tf.data.AUTOTUNE)\n",
        "    return dataset\n",
        "\n",
        "train_dataset = create_tf_dataset(train_encodings, train_labels)\n",
        "val_dataset = create_tf_dataset(val_encodings, val_labels)\n",
        "test_dataset = create_tf_dataset(test_encodings, test_labels)"
      ]
    },
    {
      "cell_type": "code",
      "execution_count": 8,
      "metadata": {},
      "outputs": [
        {
          "name": "stdout",
          "output_type": "stream",
          "text": [
            "Class weights: {1: 0.43048462741010945, 2: 1.9843862599087196, 0: 5.776923076923077}\n"
          ]
        }
      ],
      "source": [
        "# Calculate class weights to handle imbalance\n",
        "class_counts = df['class'].value_counts().to_dict()\n",
        "total_samples = len(df)\n",
        "class_weights = {class_id: total_samples / (len(class_counts) * count) for class_id, count in class_counts.items()}\n",
        "print(f\"Class weights: {class_weights}\")"
      ]
    },
    {
      "cell_type": "code",
      "execution_count": 9,
      "metadata": {},
      "outputs": [
        {
          "name": "stdout",
          "output_type": "stream",
          "text": [
            "WARNING:tensorflow:From C:\\Users\\Aditya Mohan Khade\\AppData\\Roaming\\Python\\Python310\\site-packages\\tf_keras\\src\\backend.py:873: The name tf.get_default_graph is deprecated. Please use tf.compat.v1.get_default_graph instead.\n",
            "\n"
          ]
        },
        {
          "name": "stderr",
          "output_type": "stream",
          "text": [
            "Some weights of the PyTorch model were not used when initializing the TF 2.0 model TFDistilBertForSequenceClassification: ['vocab_transform.bias', 'vocab_projector.bias', 'vocab_transform.weight', 'vocab_layer_norm.bias', 'vocab_layer_norm.weight']\n",
            "- This IS expected if you are initializing TFDistilBertForSequenceClassification from a PyTorch model trained on another task or with another architecture (e.g. initializing a TFBertForSequenceClassification model from a BertForPreTraining model).\n",
            "- This IS NOT expected if you are initializing TFDistilBertForSequenceClassification from a PyTorch model that you expect to be exactly identical (e.g. initializing a TFBertForSequenceClassification model from a BertForSequenceClassification model).\n",
            "Some weights or buffers of the TF 2.0 model TFDistilBertForSequenceClassification were not initialized from the PyTorch model and are newly initialized: ['pre_classifier.weight', 'pre_classifier.bias', 'classifier.weight', 'classifier.bias']\n",
            "You should probably TRAIN this model on a down-stream task to be able to use it for predictions and inference.\n"
          ]
        }
      ],
      "source": [
        "model = TFDistilBertForSequenceClassification.from_pretrained(\"distilbert-base-uncased\", num_labels=3)"
      ]
    },
    {
      "cell_type": "code",
      "execution_count": 10,
      "metadata": {},
      "outputs": [
        {
          "name": "stdout",
          "output_type": "stream",
          "text": [
            "WARNING:tensorflow:From C:\\Users\\Aditya Mohan Khade\\AppData\\Roaming\\Python\\Python310\\site-packages\\tf_keras\\src\\optimizers\\__init__.py:317: The name tf.train.Optimizer is deprecated. Please use tf.compat.v1.train.Optimizer instead.\n",
            "\n"
          ]
        }
      ],
      "source": [
        "# Use a lower learning rate for better fine-tuning\n",
        "optimizer = tf.keras.optimizers.Adam(learning_rate=2e-5)\n",
        "model.compile(\n",
        "    optimizer='adam',  # Use string identifier instead of the optimizer object\n",
        "    loss=tf.keras.losses.SparseCategoricalCrossentropy(from_logits=True),\n",
        "    metrics=['accuracy']\n",
        ")"
      ]
    },
    {
      "cell_type": "code",
      "execution_count": 13,
      "metadata": {},
      "outputs": [
        {
          "name": "stdout",
          "output_type": "stream",
          "text": [
            "2231/2231 [==============================] - 4256s 2s/step - loss: 0.7845 - accuracy: 0.7723 - val_loss: 0.6333 - val_accuracy: 0.7953\n"
          ]
        }
      ],
      "source": [
        "# Train for more epochs with class weights but no callbacks\n",
        "# Note: We don't use EarlyStopping because it's not compatible with the Hugging Face model\n",
        "history = model.fit(\n",
        "    train_dataset,\n",
        "    validation_data=val_dataset,\n",
        "    epochs=1,  # More epochs for better learning\n",
        "    class_weight=class_weights  # Apply class weights to handle imbalance\n",
        ")"
      ]
    },
    {
      "cell_type": "code",
      "execution_count": 17,
      "metadata": {},
      "outputs": [
        {
          "data": {
            "image/png": "[encoded data removed]",
            "text/plain": [
              "<Figure size 1200x400 with 2 Axes>"
            ]
          },
          "metadata": {},
          "output_type": "display_data"
        }
      ],
      "source": [
        "# Plot training history\n",
        "import matplotlib.pyplot as plt\n",
        "\n",
        "plt.figure(figsize=(12, 4))\n",
        "\n",
        "plt.subplot(1, 2, 1)\n",
        "plt.plot(history.history['loss'], label='Training Loss')\n",
        "plt.plot(history.history['val_loss'], label='Validation Loss')\n",
        "plt.xlabel('Epoch')\n",
        "plt.ylabel('Loss')\n",
        "plt.legend()\n",
        "plt.title('Loss Curves')\n",
        "\n",
        "plt.subplot(1, 2, 2)\n",
        "plt.plot(history.history['accuracy'], label='Training Accuracy')\n",
        "plt.plot(history.history['val_accuracy'], label='Validation Accuracy')\n",
        "plt.xlabel('Epoch')\n",
        "plt.ylabel('Accuracy')\n",
        "plt.legend()\n",
        "plt.title('Accuracy Curves')\n",
        "\n",
        "plt.tight_layout()\n",
        "plt.show()"
      ]
    },
    {
      "cell_type": "code",
      "execution_count": 16,
      "metadata": {},
      "outputs": [
        {
          "name": "stdout",
          "output_type": "stream",
          "text": [
            "620/620 [==============================] - 195s 312ms/step - loss: 0.6653 - accuracy: 0.7730\n",
            "Test Accuracy: 0.7730\n"
          ]
        }
      ],
      "source": [
        "test_loss, test_accuracy = model.evaluate(test_dataset)\n",
        "print(f\"Test Accuracy: {test_accuracy:.4f}\")"
      ]
    },
    {
      "cell_type": "code",
      "execution_count": 19,
      "metadata": {},
      "outputs": [
        {
          "name": "stdout",
          "output_type": "stream",
          "text": [
            "Statement: You should go to hell.\n",
            "Predicted class: 1\n",
            "Confidence: 0.7667\n",
            "Class probabilities: Hate: 0.0637, Offensive: 0.7667, Neutral: 0.1695\n",
            "\n",
            "Statement: What an idiot you are!\n",
            "Predicted class: 1\n",
            "Confidence: 0.7667\n",
            "Class probabilities: Hate: 0.0637, Offensive: 0.7667, Neutral: 0.1695\n",
            "\n",
            "Statement: Have a nice day!\n",
            "Predicted class: 1\n",
            "Confidence: 0.7667\n",
            "Class probabilities: Hate: 0.0637, Offensive: 0.7667, Neutral: 0.1695\n",
            "\n"
          ]
        }
      ],
      "source": [
        "# Test on our example statements\n",
        "example_statements = [\n",
        "    \"You should go to hell.\",  # Should be classified as hate speech (0) or offensive (1)\n",
        "    \"What an idiot you are!\",  # Should be classified as offensive language (1)\n",
        "    \"Have a nice day!\",        # Should be classified as neither/neutral (2)\n",
        "]\n",
        "\n",
        "inputs = tokenizer(example_statements, padding=True, truncation=True, return_tensors=\"tf\")\n",
        "predictions = model(inputs).logits\n",
        "predicted_classes = tf.argmax(predictions, axis=1)\n",
        "\n",
        "# Get prediction probabilities\n",
        "softmax_probs = tf.nn.softmax(predictions).numpy()\n",
        "\n",
        "for i, (statement, pred_class) in enumerate(zip(example_statements, predicted_classes.numpy())):\n",
        "    print(f\"Statement: {statement}\")\n",
        "    print(f\"Predicted class: {pred_class}\")\n",
        "    print(f\"Confidence: {softmax_probs[i][pred_class]:.4f}\")\n",
        "    print(f\"Class probabilities: Hate: {softmax_probs[i][0]:.4f}, Offensive: {softmax_probs[i][1]:.4f}, Neutral: {softmax_probs[i][2]:.4f}\")\n",
        "    print()"
      ]
    },
    {
      "cell_type": "code",
      "execution_count": null,
      "metadata": {},
      "outputs": [
        {
          "data": {
            "image/png": "[encoded data removed]",
            "text/plain": [
              "<Figure size 800x600 with 2 Axes>"
            ]
          },
          "metadata": {},
          "output_type": "display_data"
        },
        {
          "name": "stdout",
          "output_type": "stream",
          "text": [
            "              precision    recall  f1-score   support\n",
            "\n",
            "        Hate       0.00      0.00      0.00        13\n",
            "   Offensive       0.78      1.00      0.87       152\n",
            "     Neutral       0.00      0.00      0.00        31\n",
            "\n",
            "    accuracy                           0.78       196\n",
            "   macro avg       0.26      0.33      0.29       196\n",
            "weighted avg       0.60      0.78      0.68       196\n",
            "\n"
          ]
        },
        {
          "name": "stderr",
          "output_type": "stream",
          "text": [
            "C:\\Users\\Aditya Mohan Khade\\AppData\\Roaming\\Python\\Python310\\site-packages\\sklearn\\metrics\\_classification.py:1565: UndefinedMetricWarning: Precision is ill-defined and being set to 0.0 in labels with no predicted samples. Use `zero_division` parameter to control this behavior.\n",
            "  _warn_prf(average, modifier, f\"{metric.capitalize()} is\", len(result))\n",
            "C:\\Users\\Aditya Mohan Khade\\AppData\\Roaming\\Python\\Python310\\site-packages\\sklearn\\metrics\\_classification.py:1565: UndefinedMetricWarning: Precision is ill-defined and being set to 0.0 in labels with no predicted samples. Use `zero_division` parameter to control this behavior.\n",
            "  _warn_prf(average, modifier, f\"{metric.capitalize()} is\", len(result))\n",
            "C:\\Users\\Aditya Mohan Khade\\AppData\\Roaming\\Python\\Python310\\site-packages\\sklearn\\metrics\\_classification.py:1565: UndefinedMetricWarning: Precision is ill-defined and being set to 0.0 in labels with no predicted samples. Use `zero_division` parameter to control this behavior.\n",
            "  _warn_prf(average, modifier, f\"{metric.capitalize()} is\", len(result))\n"
          ]
        }
      ],
      "source": [
        "# Create confusion matrix to evaluate model performance\n",
        "from sklearn.metrics import confusion_matrix, classification_report\n",
        "import seaborn as sns\n",
        "\n",
        "# Get predictions on test set\n",
        "test_preds = []\n",
        "test_true = []\n",
        "\n",
        "for batch, labels in test_dataset:\n",
        "    predictions = model(batch).logits\n",
        "    predicted_classes = tf.argmax(predictions, axis=1).numpy()\n",
        "    test_preds.extend(predicted_classes)\n",
        "    test_true.extend(labels.numpy())\n",
        "\n",
        "# Plot confusion matrix\n",
        "cm = confusion_matrix(test_true, test_preds)\n",
        "plt.figure(figsize=(8, 6))\n",
        "sns.heatmap(cm, annot=True, fmt='d', cmap='Blues',\n",
        "            xticklabels=['Hate', 'Offensive', 'Neutral'],\n",
        "            yticklabels=['Hate', 'Offensive', 'Neutral'])\n",
        "plt.xlabel('Predicted')\n",
        "plt.ylabel('True')\n",
        "plt.title('Confusion Matrix')\n",
        "plt.show()\n",
        "\n",
        "# Print classification report\n",
        "print(classification_report(test_true, test_preds, target_names=['Hate', 'Offensive', 'Neutral']))"
      ]
    },
    {
      "cell_type": "code",
      "execution_count": null,
      "metadata": {},
      "outputs": [
        {
          "name": "stdout",
          "output_type": "stream",
          "text": [
            "Model saved!\n"
          ]
        }
      ],
      "source": [
        "# Save the model for future use\n",
        "model.save_weights('/a:/8TH SEMESTER/New folder/Model/hate_speech_model')\n",
        "print(\"Model saved!\")"
      ]
    }
  ],
  "metadata": {
    "kernelspec": {
      "display_name": "Python 3",
      "language": "python",
      "name": "python3"
    },
    "language_info": {
      "codemirror_mode": {
        "name": "ipython",
        "version": 3
      },
      "file_extension": ".py",
      "mimetype": "text/x-python",
      "name": "python",
      "nbconvert_exporter": "python",
      "pygments_lexer": "ipython3",
      "version": "3.10.6"
    }
  },
  "nbformat": 4,
  "nbformat_minor": 4
}
